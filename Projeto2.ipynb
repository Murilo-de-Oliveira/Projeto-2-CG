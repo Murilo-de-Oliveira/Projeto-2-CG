{
 "cells": [
  {
   "cell_type": "markdown",
   "metadata": {},
   "source": [
    "Importando as bibliotecas necessárias"
   ]
  },
  {
   "cell_type": "code",
   "execution_count": null,
   "metadata": {},
   "outputs": [],
   "source": [
    "import moviepy.editor as mpe\n",
    "import numpy as np"
   ]
  },
  {
   "cell_type": "markdown",
   "metadata": {},
   "source": [
    "Importando o vídeo bruto do projeto"
   ]
  },
  {
   "cell_type": "code",
   "execution_count": 2,
   "metadata": {},
   "outputs": [],
   "source": [
    "video = mpe.VideoFileClip(\"video_projeto.mp4\")"
   ]
  },
  {
   "cell_type": "markdown",
   "metadata": {},
   "source": [
    "Pegando os valores de altura e largura do vídeo para utilizar no parâmetro \"shape\""
   ]
  },
  {
   "cell_type": "code",
   "execution_count": 4,
   "metadata": {},
   "outputs": [
    {
     "name": "stdout",
     "output_type": "stream",
     "text": [
      "Tamanho: [1920, 1080]\n"
     ]
    }
   ],
   "source": [
    "print('Tamanho:', video.size) ## ou video.h e video.w"
   ]
  },
  {
   "cell_type": "markdown",
   "metadata": {},
   "source": [
    "Função que inverte o vídeo em X. Feito assim para economizar tempo na renderização"
   ]
  },
  {
   "cell_type": "code",
   "execution_count": 5,
   "metadata": {},
   "outputs": [],
   "source": [
    "def inverte_frame(frame):\n",
    "    new_frame = np.zeros(shape=(1080, 1920, 3), dtype=np.uint32)\n",
    "    new_frame[::1, ::-1] = frame\n",
    "    return new_frame"
   ]
  },
  {
   "cell_type": "markdown",
   "metadata": {},
   "source": [
    "Este trecho inverte efetivamente o vídeo a cada 20 segundos. Todos os trechos são armazenados em uma lista. A cada iteração, caso o valor de inicio seja um múltiplo de 20, inverte os frames. Após isso, todos os frames na lista são concatenados"
   ]
  },
  {
   "cell_type": "code",
   "execution_count": 6,
   "metadata": {},
   "outputs": [
    {
     "name": "stdout",
     "output_type": "stream",
     "text": [
      "Moviepy - Building video video_invertido.mp4.\n",
      "MoviePy - Writing audio in video_invertidoTEMP_MPY_wvf_snd.mp4\n"
     ]
    },
    {
     "name": "stderr",
     "output_type": "stream",
     "text": [
      "                                                                      \r"
     ]
    },
    {
     "name": "stdout",
     "output_type": "stream",
     "text": [
      "MoviePy - Done.\n",
      "Moviepy - Writing video video_invertido.mp4\n",
      "\n"
     ]
    },
    {
     "name": "stderr",
     "output_type": "stream",
     "text": [
      "                                                                \r"
     ]
    },
    {
     "name": "stdout",
     "output_type": "stream",
     "text": [
      "Moviepy - Done !\n",
      "Moviepy - video ready video_invertido.mp4\n"
     ]
    }
   ],
   "source": [
    "duracao = video.duration\n",
    "partes = []\n",
    "for inicio in range(0, int(duracao), 20):\n",
    "    fim = min(inicio + 20, duracao)\n",
    "    parte = video.subclip(inicio, fim)\n",
    "    \n",
    "    if (inicio // 20) % 2 == 0:\n",
    "        parte = parte.fl_image(inverte_frame)\n",
    "        \n",
    "    partes.append(parte)\n",
    "\n",
    "video_invertido = mpe.concatenate_videoclips(partes)\n",
    "video_invertido.write_videofile(\"video_invertido.mp4\", codec=\"libx264\", audio_codec=\"aac\")"
   ]
  },
  {
   "cell_type": "markdown",
   "metadata": {},
   "source": [
    "Funções que alteram o áudio. Uma máscara é usada para saber o intervalo onde se deve alterar gradativamente o volume e o fator de multiplicação é calculado. O fator de multiplicação mostra a porcentagem a que o áudio será reduzido. Quando o vídeo chegar em 10 segundos, o áudio será zerado"
   ]
  },
  {
   "cell_type": "code",
   "execution_count": null,
   "metadata": {},
   "outputs": [],
   "source": [
    "def volume(t, audio_shape):\n",
    "    #a máscara que será usada para modificar o volume\n",
    "    mask = t >= duracao_total - 10\n",
    "\n",
    "    #intervalo de 30 segundos entre uma alteração de volume e outra\n",
    "    intervals = t // 30\n",
    "    \n",
    "    #o fator de multiplicação\n",
    "    factors = 1 - 0.1 * intervals\n",
    "    \n",
    "    #caso chegue nos 10 minutos finais\n",
    "    factors[mask] = 0.0\n",
    "    \n",
    "    #retorna o fator de multiplicação para ser usado no volume do audio\n",
    "    return np.tile(np.maximum(factors, 0.0), (audio_shape[1], 1)).T\n",
    "\n",
    "def aplicar_volume(get_audio_frame, t):\n",
    "    #recebe o frame de audio e o fato de multiplicação\n",
    "    audio_frame = get_audio_frame(t)\n",
    "    fator = volume(t, audio_frame.shape)\n",
    "    \n",
    "    # Verificando se os tipos de dados são compatíveis\n",
    "    if audio_frame.dtype != fator.dtype:\n",
    "        fator = fator.astype(audio_frame.dtype)\n",
    "    \n",
    "    #retorna o novo valor de audio\n",
    "    return audio_frame * fator\n"
   ]
  },
  {
   "cell_type": "markdown",
   "metadata": {},
   "source": [
    "Aplicando alterações no audio"
   ]
  },
  {
   "cell_type": "code",
   "execution_count": null,
   "metadata": {},
   "outputs": [],
   "source": [
    "duracao_total = video_invertido.duration\n",
    "audio = video_invertido.audio.fl(aplicar_volume)\n",
    "video_invertido_com_audio = video_invertido.set_audio(audio)"
   ]
  },
  {
   "cell_type": "code",
   "execution_count": 21,
   "metadata": {},
   "outputs": [
    {
     "name": "stderr",
     "output_type": "stream",
     "text": [
      "\n",
      "\n",
      "\n",
      "\u001b[A\u001b[A\u001b[A                                                      \n",
      "\n",
      "\u001b[A\u001b[A\n",
      "\n",
      "\n",
      "\u001b[A\u001b[A\u001b[A                                                      \n",
      "\n",
      "\u001b[A\u001b[A"
     ]
    },
    {
     "name": "stdout",
     "output_type": "stream",
     "text": [
      "Moviepy - Building video video_invertido_com_audio.mp4.\n",
      "MoviePy - Writing audio in video_invertido_com_audioTEMP_MPY_wvf_snd.mp4\n"
     ]
    },
    {
     "name": "stderr",
     "output_type": "stream",
     "text": [
      "                                                                      \n",
      "\n",
      "\n",
      "\u001b[A\u001b[A\u001b[A                                                      \n",
      "\n",
      "\u001b[A\u001b[A\n",
      "\n",
      "\n",
      "\u001b[A\u001b[A\u001b[A                                                      \n",
      "\n",
      "\u001b[A\u001b[A"
     ]
    },
    {
     "name": "stdout",
     "output_type": "stream",
     "text": [
      "MoviePy - Done.\n",
      "Moviepy - Writing video video_invertido_com_audio.mp4\n",
      "\n"
     ]
    },
    {
     "name": "stderr",
     "output_type": "stream",
     "text": [
      "                                                                \n",
      "\n",
      "\n",
      "\u001b[A\u001b[A\u001b[A                                                      \n",
      "\n",
      "\u001b[A\u001b[A\n",
      "\n",
      "\n",
      "\u001b[A\u001b[A\u001b[A                                                      \n",
      "\n",
      "\u001b[A\u001b[A"
     ]
    },
    {
     "name": "stdout",
     "output_type": "stream",
     "text": [
      "Moviepy - Done !\n",
      "Moviepy - video ready video_invertido_com_audio.mp4\n"
     ]
    }
   ],
   "source": [
    "video_invertido_com_audio.write_videofile(\"video_invertido_com_audio.mp4\", codec=\"libx264\", audio_codec=\"aac\")"
   ]
  },
  {
   "cell_type": "markdown",
   "metadata": {},
   "source": [
    "Neste trecho, o vídeo é cortado. Reproduzido normalmente até os 60 segundos, depois avaça para os 80 segundos, depois volta para os 20 segundos que foram cortados"
   ]
  },
  {
   "cell_type": "code",
   "execution_count": 16,
   "metadata": {},
   "outputs": [
    {
     "name": "stderr",
     "output_type": "stream",
     "text": [
      "\n",
      "\n",
      "\u001b[A\u001b[A"
     ]
    }
   ],
   "source": [
    "segmento_cortado = video_invertido_com_audio.subclip(60, 80)\n",
    "video_final = mpe.concatenate_videoclips([\n",
    "    video_invertido_com_audio.subclip(0, 60),\n",
    "    video_invertido_com_audio.subclip(80, video_invertido_com_audio.duration),\n",
    "    segmento_cortado\n",
    "])"
   ]
  },
  {
   "cell_type": "code",
   "execution_count": 29,
   "metadata": {},
   "outputs": [
    {
     "name": "stdout",
     "output_type": "stream",
     "text": [
      "Moviepy - Building video video_final.mp4.\n",
      "MoviePy - Writing audio in video_finalTEMP_MPY_wvf_snd.mp4\n"
     ]
    },
    {
     "name": "stderr",
     "output_type": "stream",
     "text": [
      "                                                                      \r"
     ]
    },
    {
     "name": "stdout",
     "output_type": "stream",
     "text": [
      "MoviePy - Done.\n",
      "Moviepy - Writing video video_final.mp4\n",
      "\n"
     ]
    },
    {
     "name": "stderr",
     "output_type": "stream",
     "text": [
      "                                                                \r"
     ]
    },
    {
     "name": "stdout",
     "output_type": "stream",
     "text": [
      "Moviepy - Done !\n",
      "Moviepy - video ready video_final.mp4\n"
     ]
    }
   ],
   "source": [
    "video_final.write_videofile(\"video_final.mp4\", codec=\"libx264\", audio_codec=\"aac\")"
   ]
  }
 ],
 "metadata": {
  "kernelspec": {
   "display_name": "Python 3",
   "language": "python",
   "name": "python3"
  },
  "language_info": {
   "codemirror_mode": {
    "name": "ipython",
    "version": 3
   },
   "file_extension": ".py",
   "mimetype": "text/x-python",
   "name": "python",
   "nbconvert_exporter": "python",
   "pygments_lexer": "ipython3",
   "version": "3.12.7"
  }
 },
 "nbformat": 4,
 "nbformat_minor": 2
}
